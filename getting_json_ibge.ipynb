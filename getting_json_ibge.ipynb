{
 "cells": [
  {
   "cell_type": "code",
   "execution_count": null,
   "metadata": {},
   "outputs": [],
   "source": [
    "import json"
   ]
  },
  {
   "cell_type": "markdown",
   "metadata": {},
   "source": [
    "### Testando com 1 Município"
   ]
  },
  {
   "cell_type": "code",
   "execution_count": null,
   "metadata": {},
   "outputs": [],
   "source": [
    "import requests\n",
    "\n",
    "# Código do município desejado (exemplo: São Paulo, SP)\n",
    "codigo_municipio = 3550308  # Código do IBGE para São Paulo/SP\n",
    "\n",
    "# URL do serviço de mapas do IBGE para um município específico\n",
    "ibge_url = f'https://servicodados.ibge.gov.br/api/v3/malhas/municipios/{codigo_municipio}?formato=application/vnd.geo+json&qualidade=maxima'\n",
    "\n",
    "response = requests.get(ibge_url)\n",
    "\n",
    "if response.status_code == 200:\n",
    "    geojson_data = response.json()\n",
    "    # Faça o que você quiser com os dados GeoJSON, como imprimir ou salvar em um arquivo\n",
    "    print(geojson_data)\n",
    "else:\n",
    "    print(\"Falha ao obter os dados GeoJSON do município do IBGE\")\n",
    "\n",
    "#Iterar sobre os códigos de todos os municipios do Brasil e armazenar o GeoJSON de cada um único json\n"
   ]
  },
  {
   "cell_type": "markdown",
   "metadata": {},
   "source": [
    "### Lendo arquivo mais atual para pegar os códigos dos municípios"
   ]
  },
  {
   "cell_type": "code",
   "execution_count": null,
   "metadata": {},
   "outputs": [],
   "source": [
    "teste = pop.sort_values(by='POP_RESIDENTE', ascending=False).head()['CD_MUN']\n",
    "teste"
   ]
  },
  {
   "cell_type": "markdown",
   "metadata": {},
   "source": [
    "### Loop - Iterando sobre todos os códigos e juntando os json"
   ]
  },
  {
   "cell_type": "code",
   "execution_count": null,
   "metadata": {},
   "outputs": [],
   "source": [
    "pop = pd.read_excel(pop.xlsx)\n",
    "pop.head()"
   ]
  },
  {
   "cell_type": "code",
   "execution_count": null,
   "metadata": {},
   "outputs": [],
   "source": [
    "import requests\n",
    "import json\n",
    "from tqdm import tqdm\n",
    "\n",
    "\n",
    "# Dicionário para armazenar os dados GeoJSON de cada município\n",
    "geojson_collection = {\n",
    "    \"type\": \"FeatureCollection\",\n",
    "    \"features\": []\n",
    "}\n",
    "\n",
    "for codigo_municipio in tqdm(pop['CD_MUN']):\n",
    "    ibge_url = f'https://servicodados.ibge.gov.br/api/v3/malhas/municipios/{codigo_municipio}?formato=application/vnd.geo+json&qualidade=maxima'\n",
    "    \n",
    "    response = requests.get(ibge_url)\n",
    "    \n",
    "    if response.status_code == 200:\n",
    "        geojson_data = response.json()\n",
    "        geojson_collection[\"features\"].append(geojson_data['features'][0])  # Append the feature part\n",
    "    else:\n",
    "        print(f\"Falha ao obter os dados GeoJSON do município {codigo_municipio} do IBGE\")\n",
    "\n",
    "# Create a GeoJSON structure\n",
    "merged_geojson = {\n",
    "    \"type\": \"FeatureCollection\",\n",
    "    \"features\": geojson_collection[\"features\"]\n",
    "}\n",
    "\n",
    "# Save whole json collection\n",
    "with open('geojson_2022.json', 'w') as output_file:\n",
    "    json.dump(geojson_collection, output_file)\n",
    "\n",
    "# Save the merged GeoJSON to a file\n",
    "with open('merged_geojson_2022.json', 'w') as output_file:\n",
    "    json.dump(merged_geojson, output_file)\n",
    "\n",
    "print(\"GeoJSON completo foi salvo no arquivo 'municipios_geojson.json'\")\n"
   ]
  }
 ],
 "metadata": {
  "kernelspec": {
   "display_name": "Python 3",
   "language": "python",
   "name": "python3"
  },
  "language_info": {
   "name": "python",
   "version": "3.10.7"
  },
  "orig_nbformat": 4
 },
 "nbformat": 4,
 "nbformat_minor": 2
}
