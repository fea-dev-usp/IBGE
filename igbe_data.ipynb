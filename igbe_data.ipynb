{
 "cells": [
  {
   "cell_type": "markdown",
   "metadata": {},
   "source": [
    "- *FEA.Dev*                   \n",
    "    https://www.linkedin.com/company/fea-dev/  \n",
    "    https://github.com/fea-dev-usp\n",
    "\n",
    "### Autores:\n",
    "\n",
    "- *Gustavo Yuji Yamachi*      \n",
    "    https://www.linkedin.com/in/gustavo-yuji-osawa-yamachi-4193371a1/  \n",
    "    https://github.com/Gust4242\n",
    "\n",
    "- *Kevyn Andrade Marcelino*   \n",
    "    https://www.linkedin.com/in/kevyn-a-marcelino/  \n",
    "    https://github.com/k-marcelino\n",
    "\n",
    "\n",
    "Data: 2023-08-26\n",
    "\n",
    "# -------------------------------------------------------------------------"
   ]
  },
  {
   "cell_type": "markdown",
   "metadata": {},
   "source": [
    "### **IMPORTS**"
   ]
  },
  {
   "cell_type": "code",
   "execution_count": null,
   "metadata": {},
   "outputs": [],
   "source": [
    "# DESCOMENTAR E COLOCAR O NOME DA LIB QUE QUER INSTALAR\n",
    "\n",
    "# pip install sidrapy"
   ]
  },
  {
   "cell_type": "code",
   "execution_count": null,
   "metadata": {},
   "outputs": [],
   "source": [
    "import zipfile\n",
    "import geopandas as gpd\n",
    "import pandas as pd\n",
    "import numpy as np\n",
    "import matplotlib.pyplot as plt\n",
    "import seaborn as sns\n",
    "import plotly.express as px\n",
    "from io import BytesIO\n",
    "import requests\n",
    "import sidrapy\n",
    "import wget\n",
    "import json\n",
    "from urllib.request import urlopen"
   ]
  },
  {
   "cell_type": "markdown",
   "metadata": {},
   "source": [
    "### **Obtendo tabela SIDRAPY**\n"
   ]
  },
  {
   "cell_type": "code",
   "execution_count": null,
   "metadata": {},
   "outputs": [],
   "source": [
    "# Tabelas Censos - https://sidra.ibge.gov.br/pesquisa/censo-demografico/demografico-2022/primeiros-resultados-populacao-e-domicilios\n",
    "# Parâmetros da API -> Consulta: https://apisidra.ibge.gov.br/\n",
    "\n",
    "pop = sidrapy.get_table(\n",
    "    table_code='4709',              # t (table_code) - é o código da tabela referente ao indicador e a pesquisa;\n",
    "    territorial_level='6',          # n (territorial_level) - especifica os níveis territoriais;\n",
    "    ibge_territorial_code='all',    # n/ (ibge_territorial_code) - inserido dentro do nível territorial, especificar o código territorial do IBGE;\n",
    "    period='all',                   # p (period) - utilizado para especificar o período;\n",
    "    variable='all',                 # v (variable) - para especificar as variáveis desejadas;\n",
    "    #header='y'                     # h (header) - para especificar se o cabeçalho será retornado ou não -> Bom para saber o que cada coluna significa\n",
    ")\n",
    "\n",
    "print(pop.shape)\n",
    "pop.head()"
   ]
  },
  {
   "cell_type": "markdown",
   "metadata": {},
   "source": [
    "### Tratamentos"
   ]
  },
  {
   "cell_type": "code",
   "execution_count": null,
   "metadata": {},
   "outputs": [],
   "source": [
    "# Removendo acentos\n",
    "pop = pop.apply(lambda x: x.str.normalize('NFKD').str.encode('ascii', errors='ignore').str.decode('utf-8') if x.dtype == 'object' else x) \n",
    "# Removendo primeira linha\n",
    "pop = pop.iloc[1:]\n",
    "\n",
    "pop.head()"
   ]
  },
  {
   "cell_type": "code",
   "execution_count": null,
   "metadata": {},
   "outputs": [],
   "source": [
    "# Pivotando tabela\n",
    "pop = pop.pivot_table(index=['D1C', 'D1N'], columns='D3N', values='V').reset_index()\n",
    "pop.columns.name = None\n",
    "\n",
    "print(pop.shape)\n",
    "pop.head()"
   ]
  },
  {
   "cell_type": "code",
   "execution_count": null,
   "metadata": {},
   "outputs": [],
   "source": [
    "# Dict mapeamento nomes das colunas\n",
    "column_mapping = {\n",
    "    'D1C': 'CD_MUN',\n",
    "    'D1N': 'NM_MUN',\n",
    "    'Populacao residente': 'POP_RESIDENTE',\n",
    "    'Variacao absoluta da populacao residente 2010 compatibilizada': 'VAR_ABS',\n",
    "    'Taxa de crescimento geometrico': 'TX_CRESC'\n",
    "}\n",
    "\n",
    "# Renomeando colunas\n",
    "pop.rename(columns=column_mapping, inplace=True)\n",
    "\n",
    "print(pop.shape)\n",
    "pop.head()"
   ]
  },
  {
   "cell_type": "code",
   "execution_count": null,
   "metadata": {},
   "outputs": [],
   "source": [
    "pop.info()"
   ]
  },
  {
   "cell_type": "code",
   "execution_count": null,
   "metadata": {},
   "outputs": [],
   "source": [
    "# Tratando tipos das colunas\n",
    "pop[['CD_MUN', 'POP_RESIDENTE', 'VAR_ABS']] = pop[['CD_MUN', 'POP_RESIDENTE', 'VAR_ABS']].astype(int)\n",
    "pop['TX_CRESC'] = pop['TX_CRESC'].astype(float) #/ 100  # Deixar como porcentagem por enquanto, fica mais fácil para visualizar no mapa\n",
    "\n",
    "pop.head()"
   ]
  },
  {
   "cell_type": "code",
   "execution_count": null,
   "metadata": {},
   "outputs": [],
   "source": [
    "# Salvando arquivo\n",
    "pop.to_excel('pop.xlsx', index=False, freeze_panes=(1,1))"
   ]
  },
  {
   "cell_type": "markdown",
   "metadata": {},
   "source": [
    "### **Obtendo Arquivo GeoJson**"
   ]
  },
  {
   "cell_type": "markdown",
   "metadata": {},
   "source": [
    "#### Alternativa 1\n",
    "\n",
    "    Baixar arquivo json e ler localmente"
   ]
  },
  {
   "cell_type": "code",
   "execution_count": null,
   "metadata": {},
   "outputs": [],
   "source": [
    "# Descomentar e rodar caso quiser essa aternativa\n",
    "\n",
    "# geo_json_url = 'https://github.com/fea-dev-usp/IBGE/blob/master/geojson_2022.json'\n",
    "# wget.download(geo_json_url)\n",
    "\n",
    "# with open('geo-ibge.json', 'r', encoding='utf-8') as file:\n",
    "#     geo_json = json.load(file)\n",
    "\n",
    "# geo_json"
   ]
  },
  {
   "cell_type": "markdown",
   "metadata": {},
   "source": [
    "#### Alternativa 2\n",
    "\n",
    "    Ler arquivo json direto do github fea.dev"
   ]
  },
  {
   "cell_type": "code",
   "execution_count": null,
   "metadata": {},
   "outputs": [],
   "source": [
    "with urlopen('https://raw.githubusercontent.com/fea-dev-usp/IBGE/master/geo-ibge.json') as response:\n",
    "    geo_json = json.load(response)\n",
    "\n",
    "geo_json[\"features\"][0]"
   ]
  },
  {
   "cell_type": "code",
   "execution_count": null,
   "metadata": {},
   "outputs": [],
   "source": [
    "with open('geojson_2022.json', 'r', encoding='utf-8') as file:\n",
    "    geo_json = json.load(file)\n",
    "\n",
    "geo_json"
   ]
  },
  {
   "cell_type": "markdown",
   "metadata": {},
   "source": [
    "### **Plotando Mapa - Plotly**"
   ]
  },
  {
   "cell_type": "code",
   "execution_count": null,
   "metadata": {},
   "outputs": [],
   "source": [
    "import plotly.express as px\n",
    "\n",
    "# Create the choropleth map using Plotly Express\n",
    "fig = px.choropleth_mapbox(\n",
    "    data_frame=pop,\n",
    "    geojson=geo_json,\n",
    "    locations='CD_MUN',\n",
    "    featureidkey='properties.codarea',\n",
    "    color='TX_CRESC',\n",
    "    color_continuous_scale='thermal',\n",
    "    range_color=(pop['TX_CRESC'].min(), pop['TX_CRESC'].max()),\n",
    "    mapbox_style='open-street-map',\n",
    "    zoom=3.5,\n",
    "    center={\"lat\": -15.81, \"lon\": -47.93},\n",
    "    opacity=1,\n",
    "    labels={'TX_CRESC': 'Tx Cresc Geométrico (%)', 'CD_MUN': 'Código do município'},\n",
    "    width=1200,\n",
    "    height=800,\n",
    "    title='Variação Pop Censo 2022',\n",
    "    hover_name='NM_MUN'  # Add this line to set hover name\n",
    "    #hover_data={'CD_MUN': False, 'TX_CRESC': True}  # Include only desired hover data\n",
    "\n",
    ")\n",
    "\n",
    "# Customize layout\n",
    "fig.update_layout(\n",
    "    margin={'r': 0, 't': 1, 'l': 0, 'b': 1},\n",
    "    coloraxis_colorbar={\n",
    "        'title': {\n",
    "            'text': 'Taxa de Crescimento (%)',\n",
    "            'side': 'right'\n",
    "        }\n",
    "    }\n",
    ")\n",
    "\n",
    "# Customize the individual polygons\n",
    "fig.update_geos(\n",
    "    showcoastlines=False,  # Hide coastlines\n",
    "    visible=False  # Hide geographical boundaries\n",
    ")\n",
    "\n",
    "# Update marker settings\n",
    "fig.update_traces(\n",
    "    marker_line_width=0.05,\n",
    "    selector=dict(type='choroplethmapbox')\n",
    ")\n",
    "\n",
    "# Display the map\n",
    "fig.show()\n"
   ]
  },
  {
   "cell_type": "code",
   "execution_count": null,
   "metadata": {},
   "outputs": [],
   "source": [
    "pop.sort_values('TX_CRESC', ascending=False)"
   ]
  },
  {
   "cell_type": "code",
   "execution_count": null,
   "metadata": {},
   "outputs": [],
   "source": [
    "import plotly.express as px\n",
    "from ipywidgets import interact, widgets\n",
    "from IPython.display import display\n",
    "\n",
    "\n",
    "\n",
    "# Create the choropleth map using Plotly Express\n",
    "def create_choropleth(selected_variable):\n",
    "    fig = px.choropleth_mapbox(\n",
    "        data_frame=pop,\n",
    "        geojson=geo_json,\n",
    "        locations='CD_MUN',\n",
    "        featureidkey='properties.codarea',\n",
    "        color=selected_variable,\n",
    "        color_continuous_scale='thermal',\n",
    "        range_color=(pop[selected_variable].min(), pop[selected_variable].max()),\n",
    "        mapbox_style='open-street-map',\n",
    "        zoom=3.5,\n",
    "        center={\"lat\": -15.81, \"lon\": -47.93},\n",
    "        opacity=1,\n",
    "        hover_name='NM_MUN',\n",
    "        hover_data={'CD_MUN': False, selected_variable: True}\n",
    "    )\n",
    "    \n",
    "    # Customize layout and traces...\n",
    "    \n",
    "    fig.show()\n",
    "\n",
    "# Define a dropdown widget with the available options\n",
    "dropdown = widgets.Dropdown(\n",
    "    options=[\n",
    "        ('Taxa de Crescimento Geométrico', 'TX_CRESC'),\n",
    "        ('População Residente', 'POP_RESIDENTE')\n",
    "    ],\n",
    "    value='TX_CRESC',  # Initial value\n",
    "    description='Select Variable:'\n",
    ")\n",
    "\n",
    "# Define the interactive function using the interact function\n",
    "def interactive_choropleth(selected_variable):\n",
    "    create_choropleth(selected_variable)\n",
    "\n",
    "# Link the dropdown to the interactive function\n",
    "interact(interactive_choropleth, selected_variable=dropdown)\n",
    "\n",
    "# Display the dropdown widget\n",
    "display(dropdown)\n"
   ]
  }
 ],
 "metadata": {
  "kernelspec": {
   "display_name": "Python 3",
   "language": "python",
   "name": "python3"
  },
  "language_info": {
   "codemirror_mode": {
    "name": "ipython",
    "version": 3
   },
   "file_extension": ".py",
   "mimetype": "text/x-python",
   "name": "python",
   "nbconvert_exporter": "python",
   "pygments_lexer": "ipython3",
   "version": "3.10.7"
  },
  "orig_nbformat": 4
 },
 "nbformat": 4,
 "nbformat_minor": 2
}
